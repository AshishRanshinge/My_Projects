{
  "nbformat": 4,
  "nbformat_minor": 0,
  "metadata": {
    "colab": {
      "name": "Heart_Disease_Classifier.ipynb",
      "version": "0.3.2",
      "provenance": [],
      "collapsed_sections": [],
      "include_colab_link": true
    },
    "kernelspec": {
      "name": "python3",
      "display_name": "Python 3"
    }
  },
  "cells": [
    {
      "cell_type": "markdown",
      "metadata": {
        "id": "view-in-github",
        "colab_type": "text"
      },
      "source": [
        "<a href=\"https://colab.research.google.com/github/AshishRanshinge/My_Projects/blob/master/Heart_Disease_Classifier.ipynb\" target=\"_parent\"><img src=\"https://colab.research.google.com/assets/colab-badge.svg\" alt=\"Open In Colab\"/></a>"
      ]
    },
    {
      "metadata": {
        "id": "wCSYDS1kgXHB",
        "colab_type": "text"
      },
      "cell_type": "markdown",
      "source": [
        "# Ingestion"
      ]
    },
    {
      "metadata": {
        "id": "S8PyDbRfd5RU",
        "colab_type": "text"
      },
      "cell_type": "markdown",
      "source": [
        "## Mount GDrive"
      ]
    },
    {
      "metadata": {
        "id": "6MT7lWkxd9BX",
        "colab_type": "code",
        "outputId": "fe63aed4-44e4-4295-cecf-6a29dc39ab38",
        "colab": {
          "base_uri": "https://localhost:8080/",
          "height": 34
        }
      },
      "cell_type": "code",
      "source": [
        "from google.colab import drive\n",
        "drive.mount('/content/gdrive')"
      ],
      "execution_count": 98,
      "outputs": [
        {
          "output_type": "stream",
          "text": [
            "Drive already mounted at /content/gdrive; to attempt to forcibly remount, call drive.mount(\"/content/gdrive\", force_remount=True).\n"
          ],
          "name": "stdout"
        }
      ]
    },
    {
      "metadata": {
        "id": "qGqauOgufKc0",
        "colab_type": "text"
      },
      "cell_type": "markdown",
      "source": [
        "## Wire up Kaggle"
      ]
    },
    {
      "metadata": {
        "id": "lB53SW5Md276",
        "colab_type": "code",
        "outputId": "665a2ff8-687c-49ff-8c71-8d55d615994e",
        "colab": {
          "base_uri": "https://localhost:8080/",
          "height": 34
        }
      },
      "cell_type": "code",
      "source": [
        "import os;os.listdir(\"/content/gdrive/My Drive/Colab Notebooks/Individual_Project\")"
      ],
      "execution_count": 99,
      "outputs": [
        {
          "output_type": "execute_result",
          "data": {
            "text/plain": [
              "['kaggle.json']"
            ]
          },
          "metadata": {
            "tags": []
          },
          "execution_count": 99
        }
      ]
    },
    {
      "metadata": {
        "id": "0UR4W9LQeW7-",
        "colab_type": "code",
        "colab": {}
      },
      "cell_type": "code",
      "source": [
        "!pip install -U -q kaggle\n",
        "!mkdir -p ~/.kaggle\n",
        "!cp /content/gdrive/My\\ Drive/Colab\\ Notebooks/Individual_Project/kaggle.json ~/.kaggle/kaggle.json"
      ],
      "execution_count": 0,
      "outputs": []
    },
    {
      "metadata": {
        "id": "FDNe0JW7fDx4",
        "colab_type": "text"
      },
      "cell_type": "markdown",
      "source": [
        "## Get Kaggle Heart Disease data"
      ]
    },
    {
      "metadata": {
        "id": "yGy0Hz-XfADd",
        "colab_type": "code",
        "outputId": "d63957a7-b307-4512-f94a-ea3e787db175",
        "colab": {
          "base_uri": "https://localhost:8080/",
          "height": 168
        }
      },
      "cell_type": "code",
      "source": [
        "!kaggle datasets download -d ronitf/heart-disease-uci\n",
        "!ls -l /content\n",
        "!unzip /content/heart-disease-uci.zip"
      ],
      "execution_count": 101,
      "outputs": [
        {
          "output_type": "stream",
          "text": [
            "heart-disease-uci.zip: Skipping, found more recently modified local copy (use --force to force download)\n",
            "total 24\n",
            "drwx------ 4 root root  4096 Feb  7 18:52 gdrive\n",
            "-rw-r--r-- 1 root root 11328 Jun 25  2018 heart.csv\n",
            "-rw-r--r-- 1 root root  3438 Feb  7 18:52 heart-disease-uci.zip\n",
            "drwxr-xr-x 1 root root  4096 Feb  6 17:31 sample_data\n",
            "Archive:  /content/heart-disease-uci.zip\n",
            "replace heart.csv? [y]es, [n]o, [A]ll, [N]one, [r]ename: y\n",
            "  inflating: heart.csv               \n"
          ],
          "name": "stdout"
        }
      ]
    },
    {
      "metadata": {
        "id": "lmub8L--gT0Q",
        "colab_type": "text"
      },
      "cell_type": "markdown",
      "source": [
        "# EDA"
      ]
    },
    {
      "metadata": {
        "id": "TSi2BKG0hE29",
        "colab_type": "text"
      },
      "cell_type": "markdown",
      "source": [
        "Importing the necessary packages"
      ]
    },
    {
      "metadata": {
        "id": "2RwjG_x6gVRN",
        "colab_type": "code",
        "colab": {}
      },
      "cell_type": "code",
      "source": [
        "import numpy as np\n",
        "import pandas as pd\n",
        "import matplotlib.pyplot as plt\n",
        "import seaborn as sns\n",
        "%matplotlib inline"
      ],
      "execution_count": 0,
      "outputs": []
    },
    {
      "metadata": {
        "id": "ilDHKinhgdmz",
        "colab_type": "code",
        "outputId": "d018235d-96c4-4c13-99cc-162cb3992f75",
        "colab": {
          "base_uri": "https://localhost:8080/",
          "height": 136
        }
      },
      "cell_type": "code",
      "source": [
        "df = pd.read_csv(\"/content/heart.csv\")\n",
        "df.head(3)"
      ],
      "execution_count": 103,
      "outputs": [
        {
          "output_type": "execute_result",
          "data": {
            "text/html": [
              "<div>\n",
              "<style scoped>\n",
              "    .dataframe tbody tr th:only-of-type {\n",
              "        vertical-align: middle;\n",
              "    }\n",
              "\n",
              "    .dataframe tbody tr th {\n",
              "        vertical-align: top;\n",
              "    }\n",
              "\n",
              "    .dataframe thead th {\n",
              "        text-align: right;\n",
              "    }\n",
              "</style>\n",
              "<table border=\"1\" class=\"dataframe\">\n",
              "  <thead>\n",
              "    <tr style=\"text-align: right;\">\n",
              "      <th></th>\n",
              "      <th>age</th>\n",
              "      <th>sex</th>\n",
              "      <th>cp</th>\n",
              "      <th>trestbps</th>\n",
              "      <th>chol</th>\n",
              "      <th>fbs</th>\n",
              "      <th>restecg</th>\n",
              "      <th>thalach</th>\n",
              "      <th>exang</th>\n",
              "      <th>oldpeak</th>\n",
              "      <th>slope</th>\n",
              "      <th>ca</th>\n",
              "      <th>thal</th>\n",
              "      <th>target</th>\n",
              "    </tr>\n",
              "  </thead>\n",
              "  <tbody>\n",
              "    <tr>\n",
              "      <th>0</th>\n",
              "      <td>63</td>\n",
              "      <td>1</td>\n",
              "      <td>3</td>\n",
              "      <td>145</td>\n",
              "      <td>233</td>\n",
              "      <td>1</td>\n",
              "      <td>0</td>\n",
              "      <td>150</td>\n",
              "      <td>0</td>\n",
              "      <td>2.3</td>\n",
              "      <td>0</td>\n",
              "      <td>0</td>\n",
              "      <td>1</td>\n",
              "      <td>1</td>\n",
              "    </tr>\n",
              "    <tr>\n",
              "      <th>1</th>\n",
              "      <td>37</td>\n",
              "      <td>1</td>\n",
              "      <td>2</td>\n",
              "      <td>130</td>\n",
              "      <td>250</td>\n",
              "      <td>0</td>\n",
              "      <td>1</td>\n",
              "      <td>187</td>\n",
              "      <td>0</td>\n",
              "      <td>3.5</td>\n",
              "      <td>0</td>\n",
              "      <td>0</td>\n",
              "      <td>2</td>\n",
              "      <td>1</td>\n",
              "    </tr>\n",
              "    <tr>\n",
              "      <th>2</th>\n",
              "      <td>41</td>\n",
              "      <td>0</td>\n",
              "      <td>1</td>\n",
              "      <td>130</td>\n",
              "      <td>204</td>\n",
              "      <td>0</td>\n",
              "      <td>0</td>\n",
              "      <td>172</td>\n",
              "      <td>0</td>\n",
              "      <td>1.4</td>\n",
              "      <td>2</td>\n",
              "      <td>0</td>\n",
              "      <td>2</td>\n",
              "      <td>1</td>\n",
              "    </tr>\n",
              "  </tbody>\n",
              "</table>\n",
              "</div>"
            ],
            "text/plain": [
              "   age  sex  cp  trestbps  chol  fbs  restecg  thalach  exang  oldpeak  slope  \\\n",
              "0   63    1   3       145   233    1        0      150      0      2.3      0   \n",
              "1   37    1   2       130   250    0        1      187      0      3.5      0   \n",
              "2   41    0   1       130   204    0        0      172      0      1.4      2   \n",
              "\n",
              "   ca  thal  target  \n",
              "0   0     1       1  \n",
              "1   0     2       1  \n",
              "2   0     2       1  "
            ]
          },
          "metadata": {
            "tags": []
          },
          "execution_count": 103
        }
      ]
    },
    {
      "metadata": {
        "id": "f0TkqpV9723x",
        "colab_type": "text"
      },
      "cell_type": "markdown",
      "source": [
        "DataFrame columns\n",
        "* age - age in years \n",
        "* sex - (1 = male; 0 = female) \n",
        "* cp - chest pain type \n",
        "* trestbps - resting blood pressure (in mm Hg on admission to the hospital) \n",
        "* chol - serum cholestoral in mg/dl \n",
        "* fbs - (fasting blood sugar > 120 mg/dl) (1 = true; 0 = false) \n",
        "* restecg - resting electrocardiographic results \n",
        "* thalach - maximum heart rate achieved \n",
        "* exang - exercise induced angina (1 = yes; 0 = no) \n",
        "* oldpeak - ST depression induced by exercise relative to rest \n",
        "* slope - the slope of the peak exercise ST segment \n",
        "* ca - number of major vessels (0-3) colored by flourosopy \n",
        "* thal - 3 = normal; 6 = fixed defect; 7 = reversable defect \n",
        "* target - have disease or not (1=yes, 0=no)"
      ]
    },
    {
      "metadata": {
        "id": "YCnrhtHV5H3S",
        "colab_type": "code",
        "colab": {
          "base_uri": "https://localhost:8080/",
          "height": 269
        },
        "outputId": "103997f2-d863-488f-dbf7-57a370c478f3"
      },
      "cell_type": "code",
      "source": [
        "df.isnull().sum()"
      ],
      "execution_count": 104,
      "outputs": [
        {
          "output_type": "execute_result",
          "data": {
            "text/plain": [
              "age         0\n",
              "sex         0\n",
              "cp          0\n",
              "trestbps    0\n",
              "chol        0\n",
              "fbs         0\n",
              "restecg     0\n",
              "thalach     0\n",
              "exang       0\n",
              "oldpeak     0\n",
              "slope       0\n",
              "ca          0\n",
              "thal        0\n",
              "target      0\n",
              "dtype: int64"
            ]
          },
          "metadata": {
            "tags": []
          },
          "execution_count": 104
        }
      ]
    },
    {
      "metadata": {
        "id": "z4YUSOr8zAQj",
        "colab_type": "text"
      },
      "cell_type": "markdown",
      "source": [
        "### Check for correlation between the features"
      ]
    },
    {
      "metadata": {
        "id": "PLVBsx0Z5WQp",
        "colab_type": "code",
        "colab": {
          "base_uri": "https://localhost:8080/",
          "height": 554
        },
        "outputId": "dfbbab79-ea86-4782-fe2d-fa47f88a8ff6"
      },
      "cell_type": "code",
      "source": [
        "corr=df.corr()\n",
        "\n",
        "# Set up the matplotlib figure\n",
        "f, ax = plt.subplots(figsize=(11, 9))\n",
        "\n",
        "# Generate a custom diverging colormap\n",
        "#cmap = sns.diverging_palette(150, 10, as_cmap=True)\n",
        "seq_col_brew = sns.color_palette(\"Blues\", 4)\n",
        "cmap = sns.set_palette(seq_col_brew)\n",
        "\n",
        "# Draw the heatmap with the mask and correct aspect ratio\n",
        "sns.heatmap(corr, cmap=cmap, vmax=.3, center=0, linewidths=.5)\n"
      ],
      "execution_count": 105,
      "outputs": [
        {
          "output_type": "execute_result",
          "data": {
            "text/plain": [
              "<matplotlib.axes._subplots.AxesSubplot at 0x7f91c8c4a9e8>"
            ]
          },
          "metadata": {
            "tags": []
          },
          "execution_count": 105
        },
        {
          "output_type": "display_data",
          "data": {
            "image/png": "[encoded data removed]",
            "text/plain": [
              "<Figure size 792x648 with 2 Axes>"
            ]
          },
          "metadata": {
            "tags": []
          }
        }
      ]
    },
    {
      "metadata": {
        "id": "QvD-xvgbptUs",
        "colab_type": "code",
        "colab": {
          "base_uri": "https://localhost:8080/",
          "height": 313
        },
        "outputId": "5ecc71ea-5bbb-42cf-c53d-bf363fea4e7c"
      },
      "cell_type": "code",
      "source": [
        "plt.figure() # removes previous plots and creates a blank slate\n",
        "sns.countplot(x='sex', hue='target', data=df ,palette='bright')\n",
        "plt.xticks([0,1], ['Female', 'Male'])\n",
        "plt.show()"
      ],
      "execution_count": 106,
      "outputs": [
        {
          "output_type": "stream",
          "text": [
            "/usr/local/lib/python3.6/dist-packages/seaborn/categorical.py:1468: FutureWarning: remove_na is deprecated and is a private function. Do not use.\n",
            "  stat_data = remove_na(group_data[hue_mask])\n"
          ],
          "name": "stderr"
        },
        {
          "output_type": "display_data",
          "data": {
            "image/png": "[encoded data removed]",
            "text/plain": [
              "<Figure size 432x288 with 1 Axes>"
            ]
          },
          "metadata": {
            "tags": []
          }
        }
      ]
    },
    {
      "metadata": {
        "id": "XpTQXHS5z8ty",
        "colab_type": "text"
      },
      "cell_type": "markdown",
      "source": [
        "# Modeling"
      ]
    },
    {
      "metadata": {
        "id": "mNXI-ohGz3j9",
        "colab_type": "text"
      },
      "cell_type": "markdown",
      "source": [
        "## kNN Classification"
      ]
    },
    {
      "metadata": {
        "id": "XslR-62unIdO",
        "colab_type": "code",
        "outputId": "6af86db2-1c17-4c6c-f190-3f9f5741ee68",
        "colab": {
          "base_uri": "https://localhost:8080/",
          "height": 34
        }
      },
      "cell_type": "code",
      "source": [
        "from sklearn.neighbors import KNeighborsClassifier\n",
        "from sklearn.model_selection import train_test_split\n",
        "from sklearn import metrics\n",
        "\n",
        "y=df['target'].values\n",
        "X=df.drop('target', axis=1).values\n",
        "X.shape, y.shape"
      ],
      "execution_count": 107,
      "outputs": [
        {
          "output_type": "execute_result",
          "data": {
            "text/plain": [
              "((303, 13), (303,))"
            ]
          },
          "metadata": {
            "tags": []
          },
          "execution_count": 107
        }
      ]
    },
    {
      "metadata": {
        "id": "OFjusbfnmJer",
        "colab_type": "code",
        "colab": {}
      },
      "cell_type": "code",
      "source": [
        "# Normalize\n",
        "X_data = (X - np.min(X)) / (np.max(X) - np.min(X))"
      ],
      "execution_count": 0,
      "outputs": []
    },
    {
      "metadata": {
        "id": "J-7js7vj0ZKq",
        "colab_type": "text"
      },
      "cell_type": "markdown",
      "source": [
        "### Finding the best k value"
      ]
    },
    {
      "metadata": {
        "id": "EyyTy1Rmm36V",
        "colab_type": "code",
        "colab": {
          "base_uri": "https://localhost:8080/",
          "height": 34
        },
        "outputId": "116ebe13-6c25-4484-e7b0-e2df226b96b8"
      },
      "cell_type": "code",
      "source": [
        "X_data.shape, y.shape"
      ],
      "execution_count": 109,
      "outputs": [
        {
          "output_type": "execute_result",
          "data": {
            "text/plain": [
              "((303, 13), (303,))"
            ]
          },
          "metadata": {
            "tags": []
          },
          "execution_count": 109
        }
      ]
    },
    {
      "metadata": {
        "id": "IIuPcteQpR71",
        "colab_type": "code",
        "outputId": "9743d35f-3909-42f6-a5d0-3bad36c37ed7",
        "colab": {
          "base_uri": "https://localhost:8080/",
          "height": 294
        }
      },
      "cell_type": "code",
      "source": [
        "#With train test split\n",
        "X_train, X_test, y_train, y_test = train_test_split( X_data, y, test_size = 0.2, random_state=32, stratify=y)\n",
        "\n",
        "# Setup arrays to store train and test accuracies\n",
        "neighbors = np.arange(1, 10)\n",
        "train_accuracy = np.empty(len(neighbors))\n",
        "test_accuracy = np.empty(len(neighbors))\n",
        "\n",
        "# Loop over different values of k\n",
        "for i, k in enumerate(neighbors):\n",
        "    # Setup a k-NN Classifier with k neighbors: knn\n",
        "    knn = KNeighborsClassifier(n_neighbors=k)\n",
        "\n",
        "    # Fit the classifier to the training data\n",
        "    knn.fit(X_train,y_train)\n",
        "    \n",
        "    #Compute accuracy on the training set\n",
        "    train_accuracy[i] = knn.score(X_train, y_train)\n",
        "\n",
        "    #Compute accuracy on the testing set\n",
        "    test_accuracy[i] = knn.score(X_test, y_test)\n",
        "\n",
        "# Generate plot\n",
        "plt.title('k-NN: Varying Number of Neighbors')\n",
        "plt.plot(neighbors, test_accuracy, color='green', label = 'Testing Accuracy' )\n",
        "plt.plot(neighbors, train_accuracy, color='red' ,label = 'Training Accuracy')\n",
        "plt.legend()\n",
        "plt.xlabel('Number of Neighbors')\n",
        "plt.ylabel('Accuracy')\n",
        "plt.show()"
      ],
      "execution_count": 110,
      "outputs": [
        {
          "output_type": "display_data",
          "data": {
            "image/png": "[encoded data removed]",
            "text/plain": [
              "<Figure size 432x288 with 1 Axes>"
            ]
          },
          "metadata": {
            "tags": []
          }
        }
      ]
    },
    {
      "metadata": {
        "id": "oC8IjwAW0hPn",
        "colab_type": "text"
      },
      "cell_type": "markdown",
      "source": [
        "### Classification at k=7"
      ]
    },
    {
      "metadata": {
        "id": "cWjQysaPqvMW",
        "colab_type": "code",
        "outputId": "d8e78df2-21a5-46d5-8a46-2b4d61083db4",
        "colab": {
          "base_uri": "https://localhost:8080/",
          "height": 34
        }
      },
      "cell_type": "code",
      "source": [
        "#Create a k-NN classifier with 7 neighbors: knn\n",
        "knn = KNeighborsClassifier(n_neighbors=8)\n",
        "\n",
        "# Fit the classifier to the training data\n",
        "knn.fit(X_train,y_train)\n",
        "\n",
        "prediction=knn.predict(X_test)\n",
        "\n",
        "# Print the accuracy\n",
        "print(knn.score(X_test, y_test))\n"
      ],
      "execution_count": 111,
      "outputs": [
        {
          "output_type": "stream",
          "text": [
            "0.7049180327868853\n"
          ],
          "name": "stdout"
        }
      ]
    },
    {
      "metadata": {
        "id": "ma53bWJ5iFNo",
        "colab_type": "text"
      },
      "cell_type": "markdown",
      "source": [
        "## SVM- Support Vector Machine"
      ]
    },
    {
      "metadata": {
        "id": "92NjuQKqiHU3",
        "colab_type": "code",
        "colab": {
          "base_uri": "https://localhost:8080/",
          "height": 87
        },
        "outputId": "a703e2a4-02a3-468f-9008-99a95f011038"
      },
      "cell_type": "code",
      "source": [
        "from sklearn.svm import SVC\n",
        "svm = SVC(random_state = 100)\n",
        "svm.fit(X_train, y_train)\n",
        "print(svm.score(X_test,y_test)*100)"
      ],
      "execution_count": 112,
      "outputs": [
        {
          "output_type": "stream",
          "text": [
            "54.09836065573771\n"
          ],
          "name": "stdout"
        },
        {
          "output_type": "stream",
          "text": [
            "/usr/local/lib/python3.6/dist-packages/sklearn/svm/base.py:196: FutureWarning: The default value of gamma will change from 'auto' to 'scale' in version 0.22 to account better for unscaled features. Set gamma explicitly to 'auto' or 'scale' to avoid this warning.\n",
            "  \"avoid this warning.\", FutureWarning)\n"
          ],
          "name": "stderr"
        }
      ]
    },
    {
      "metadata": {
        "id": "Pn8zuRHIijGg",
        "colab_type": "text"
      },
      "cell_type": "markdown",
      "source": [
        "## Decision Tree"
      ]
    },
    {
      "metadata": {
        "id": "M_E_Y-oCiiZY",
        "colab_type": "code",
        "colab": {
          "base_uri": "https://localhost:8080/",
          "height": 34
        },
        "outputId": "2039265d-3c38-4438-e650-a57b23b6e892"
      },
      "cell_type": "code",
      "source": [
        "from sklearn.tree import DecisionTreeClassifier\n",
        "dtc = DecisionTreeClassifier()\n",
        "dtc.fit(X_train, y_train)\n",
        "print(dtc.score(X_test, y_test)*100)"
      ],
      "execution_count": 116,
      "outputs": [
        {
          "output_type": "stream",
          "text": [
            "77.04918032786885\n"
          ],
          "name": "stdout"
        }
      ]
    },
    {
      "metadata": {
        "id": "gln4CmJv3hoN",
        "colab_type": "text"
      },
      "cell_type": "markdown",
      "source": [
        "## Logistic Regression"
      ]
    },
    {
      "metadata": {
        "id": "vzqh3DI33g5l",
        "colab_type": "code",
        "colab": {
          "base_uri": "https://localhost:8080/",
          "height": 87
        },
        "outputId": "8c1885bd-fd84-4d57-d645-b723ac2dc582"
      },
      "cell_type": "code",
      "source": [
        "from sklearn.linear_model import LogisticRegression\n",
        "log_reg = LogisticRegression()\n",
        "log_reg.fit(X_train,y_train)\n",
        "print(log_reg.score(X_test,y_test)*100)"
      ],
      "execution_count": 117,
      "outputs": [
        {
          "output_type": "stream",
          "text": [
            "55.73770491803278\n"
          ],
          "name": "stdout"
        },
        {
          "output_type": "stream",
          "text": [
            "/usr/local/lib/python3.6/dist-packages/sklearn/linear_model/logistic.py:433: FutureWarning: Default solver will be changed to 'lbfgs' in 0.22. Specify a solver to silence this warning.\n",
            "  FutureWarning)\n"
          ],
          "name": "stderr"
        }
      ]
    },
    {
      "metadata": {
        "id": "3LhFStub4Jjv",
        "colab_type": "code",
        "colab": {
          "base_uri": "https://localhost:8080/",
          "height": 369
        },
        "outputId": "2fc19242-03e4-48dd-9f3f-1aa93762149a"
      },
      "cell_type": "code",
      "source": [
        "classification = [\"KNN\", \"SVM\", \"Decision Tree\", \"Logistic Regression\"]\n",
        "accuracy = [70.49, 54.08, 77.04, 55.7]\n",
        "\n",
        "\n",
        "plt.figure(figsize=(16,5))\n",
        "plt.yticks(np.arange(0,100,10))\n",
        "plt.ylabel(\"Accuracy %\")\n",
        "plt.xlabel(\"Classification Algorithms\")\n",
        "sns.barplot(x=classification, y=accuracy)\n",
        "plt.show()"
      ],
      "execution_count": 119,
      "outputs": [
        {
          "output_type": "stream",
          "text": [
            "/usr/local/lib/python3.6/dist-packages/seaborn/categorical.py:1428: FutureWarning: remove_na is deprecated and is a private function. Do not use.\n",
            "  stat_data = remove_na(group_data)\n"
          ],
          "name": "stderr"
        },
        {
          "output_type": "display_data",
          "data": {
            "image/png": "[encoded data removed]",
            "text/plain": [
              "<Figure size 1152x360 with 1 Axes>"
            ]
          },
          "metadata": {
            "tags": []
          }
        }
      ]
    },
    {
      "metadata": {
        "id": "hMi77jPu0kY1",
        "colab_type": "text"
      },
      "cell_type": "markdown",
      "source": [
        "# Conclusion"
      ]
    },
    {
      "metadata": {
        "id": "5HSejvNd0oLW",
        "colab_type": "text"
      },
      "cell_type": "markdown",
      "source": [
        "* Found the best k value to be 7;  kNN classifies with an accuracy of 70.49%\n",
        "* Decision tree has the highest accuracy at 77.04%\n"
      ]
    },
    {
      "metadata": {
        "id": "EewbWAvn8yyN",
        "colab_type": "text"
      },
      "cell_type": "markdown",
      "source": [
        "Reasons for low accuracy of SVM and Logistic Regression-\n",
        "* Linearity:\n",
        "\n",
        "> 1. Linear classification algorithms assume that classes can be separated by a straight line.\n",
        "> 2. Linear regression algorithms assume that data trends follow a straight line. These assumptions aren't bad for some problems, but on others they bring accuracy down\n",
        "\n",
        "Reference:\n",
        "\n",
        "Link- https://docs.microsoft.com/en-us/azure/machine-learning/studio/algorithm-choice\n",
        "\n",
        "\n"
      ]
    }
  ]
}
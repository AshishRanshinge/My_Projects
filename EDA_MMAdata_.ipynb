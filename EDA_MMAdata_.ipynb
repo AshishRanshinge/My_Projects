{
  "nbformat": 4,
  "nbformat_minor": 0,
  "metadata": {
    "colab": {
      "name": "EDA-MMAdata .ipynb",
      "version": "0.3.2",
      "provenance": [],
      "collapsed_sections": [],
      "include_colab_link": true
    },
    "kernelspec": {
      "name": "python3",
      "display_name": "Python 3"
    }
  },
  "cells": [
    {
      "cell_type": "markdown",
      "metadata": {
        "id": "view-in-github",
        "colab_type": "text"
      },
      "source": [
        "<a href=\"https://colab.research.google.com/github/AshishRanshinge/My_Projects/blob/master/EDA_MMAdata_.ipynb\" target=\"_parent\"><img src=\"https://colab.research.google.com/assets/colab-badge.svg\" alt=\"Open In Colab\"/></a>"
      ]
    },
    {
      "metadata": {
        "id": "P_2dSOOODyUh",
        "colab_type": "code",
        "outputId": "769cb9e0-fdbe-4dda-90d0-33fe44ac43db",
        "colab": {
          "base_uri": "https://localhost:8080/",
          "height": 261
        }
      },
      "cell_type": "code",
      "source": [
        "import pandas as pd\n",
        "import seaborn as sns\n",
        "import numpy as np\n"
      ],
      "execution_count": 0,
      "outputs": [
        {
          "output_type": "execute_result",
          "data": {
            "text/html": [
              "<div>\n",
              "<style scoped>\n",
              "    .dataframe tbody tr th:only-of-type {\n",
              "        vertical-align: middle;\n",
              "    }\n",
              "\n",
              "    .dataframe tbody tr th {\n",
              "        vertical-align: top;\n",
              "    }\n",
              "\n",
              "    .dataframe thead th {\n",
              "        text-align: right;\n",
              "    }\n",
              "</style>\n",
              "<table border=\"1\" class=\"dataframe\">\n",
              "  <thead>\n",
              "    <tr style=\"text-align: right;\">\n",
              "      <th></th>\n",
              "      <th>pageurl</th>\n",
              "      <th>eid</th>\n",
              "      <th>mid</th>\n",
              "      <th>event_name</th>\n",
              "      <th>event_org</th>\n",
              "      <th>event_date</th>\n",
              "      <th>event_place</th>\n",
              "      <th>f1pageurl</th>\n",
              "      <th>f2pageurl</th>\n",
              "      <th>f1name</th>\n",
              "      <th>f2name</th>\n",
              "      <th>f1result</th>\n",
              "      <th>f2result</th>\n",
              "      <th>f1fid</th>\n",
              "      <th>f2fid</th>\n",
              "      <th>method</th>\n",
              "      <th>method_d</th>\n",
              "      <th>ref</th>\n",
              "      <th>round</th>\n",
              "      <th>time</th>\n",
              "    </tr>\n",
              "  </thead>\n",
              "  <tbody>\n",
              "    <tr>\n",
              "      <th>0</th>\n",
              "      <td>/events/UFC-1-The-Beginning-7</td>\n",
              "      <td>7</td>\n",
              "      <td>8</td>\n",
              "      <td>UFC 1 - The Beginning</td>\n",
              "      <td>Ultimate Fighting Championship</td>\n",
              "      <td>11/12/93</td>\n",
              "      <td>McNichols Arena, Denver, Colorado, United States</td>\n",
              "      <td>/fighter/Royce-Gracie-19</td>\n",
              "      <td>/fighter/Gerard-Gordeau-15</td>\n",
              "      <td>Royce Gracie</td>\n",
              "      <td>Gerard Gordeau</td>\n",
              "      <td>win</td>\n",
              "      <td>loss</td>\n",
              "      <td>19</td>\n",
              "      <td>15</td>\n",
              "      <td>Submission</td>\n",
              "      <td>Rear-Naked Choke</td>\n",
              "      <td>Helio Vigio</td>\n",
              "      <td>1</td>\n",
              "      <td>1:44</td>\n",
              "    </tr>\n",
              "    <tr>\n",
              "      <th>1</th>\n",
              "      <td>/events/UFC-1-The-Beginning-7</td>\n",
              "      <td>7</td>\n",
              "      <td>7</td>\n",
              "      <td>UFC 1 - The Beginning</td>\n",
              "      <td>Ultimate Fighting Championship</td>\n",
              "      <td>11/12/93</td>\n",
              "      <td>McNichols Arena, Denver, Colorado, United States</td>\n",
              "      <td>/fighter/Jason-DeLucia-22</td>\n",
              "      <td>/fighter/Trent-Jenkins-23</td>\n",
              "      <td>Jason DeLucia</td>\n",
              "      <td>Trent Jenkins</td>\n",
              "      <td>win</td>\n",
              "      <td>loss</td>\n",
              "      <td>22</td>\n",
              "      <td>23</td>\n",
              "      <td>Submission</td>\n",
              "      <td>Rear-Naked Choke</td>\n",
              "      <td>Joao Alberto Barreto</td>\n",
              "      <td>1</td>\n",
              "      <td>0:52</td>\n",
              "    </tr>\n",
              "  </tbody>\n",
              "</table>\n",
              "</div>"
            ],
            "text/plain": [
              "                         pageurl  eid  mid             event_name  \\\n",
              "0  /events/UFC-1-The-Beginning-7    7    8  UFC 1 - The Beginning   \n",
              "1  /events/UFC-1-The-Beginning-7    7    7  UFC 1 - The Beginning   \n",
              "\n",
              "                        event_org event_date  \\\n",
              "0  Ultimate Fighting Championship   11/12/93   \n",
              "1  Ultimate Fighting Championship   11/12/93   \n",
              "\n",
              "                                        event_place  \\\n",
              "0  McNichols Arena, Denver, Colorado, United States   \n",
              "1  McNichols Arena, Denver, Colorado, United States   \n",
              "\n",
              "                   f1pageurl                   f2pageurl         f1name  \\\n",
              "0   /fighter/Royce-Gracie-19  /fighter/Gerard-Gordeau-15   Royce Gracie   \n",
              "1  /fighter/Jason-DeLucia-22   /fighter/Trent-Jenkins-23  Jason DeLucia   \n",
              "\n",
              "           f2name f1result f2result  f1fid  f2fid      method  \\\n",
              "0  Gerard Gordeau      win     loss     19     15  Submission   \n",
              "1   Trent Jenkins      win     loss     22     23  Submission   \n",
              "\n",
              "           method_d                   ref  round  time  \n",
              "0  Rear-Naked Choke           Helio Vigio      1  1:44  \n",
              "1  Rear-Naked Choke  Joao Alberto Barreto      1  0:52  "
            ]
          },
          "metadata": {
            "tags": []
          },
          "execution_count": 120
        }
      ]
    },
    {
      "metadata": {
        "id": "665JCaJfqWlI",
        "colab_type": "code",
        "colab": {}
      },
      "cell_type": "code",
      "source": [
        "csv_url = 'https://raw.githubusercontent.com/noahgift/mma/master/data/ufc_fights_all.csv'\n",
        "mma_df = pd.read_csv(csv_url)\n",
        "mma_df.head(2)"
      ],
      "execution_count": 0,
      "outputs": []
    },
    {
      "metadata": {
        "id": "Ismfb8-iD5wM",
        "colab_type": "code",
        "outputId": "83451305-12e4-4eb9-9f6f-9afb9c14ce1e",
        "colab": {
          "base_uri": "https://localhost:8080/",
          "height": 602
        }
      },
      "cell_type": "code",
      "source": [
        "mma_brocklesnar_df=mma_df[(mma_df[\"f1name\"]==\"Brock Lesnar\") | (mma_df[\"f2name\"]==\"Brock Lesnar\")]; mma_brocklesnar_df.head(5)"
      ],
      "execution_count": 0,
      "outputs": [
        {
          "output_type": "execute_result",
          "data": {
            "text/html": [
              "<div>\n",
              "<style scoped>\n",
              "    .dataframe tbody tr th:only-of-type {\n",
              "        vertical-align: middle;\n",
              "    }\n",
              "\n",
              "    .dataframe tbody tr th {\n",
              "        vertical-align: top;\n",
              "    }\n",
              "\n",
              "    .dataframe thead th {\n",
              "        text-align: right;\n",
              "    }\n",
              "</style>\n",
              "<table border=\"1\" class=\"dataframe\">\n",
              "  <thead>\n",
              "    <tr style=\"text-align: right;\">\n",
              "      <th></th>\n",
              "      <th>pageurl</th>\n",
              "      <th>eid</th>\n",
              "      <th>mid</th>\n",
              "      <th>event_name</th>\n",
              "      <th>event_org</th>\n",
              "      <th>event_date</th>\n",
              "      <th>event_place</th>\n",
              "      <th>f1pageurl</th>\n",
              "      <th>f2pageurl</th>\n",
              "      <th>f1name</th>\n",
              "      <th>f2name</th>\n",
              "      <th>f1result</th>\n",
              "      <th>f2result</th>\n",
              "      <th>f1fid</th>\n",
              "      <th>f2fid</th>\n",
              "      <th>method</th>\n",
              "      <th>method_d</th>\n",
              "      <th>ref</th>\n",
              "      <th>round</th>\n",
              "      <th>time</th>\n",
              "    </tr>\n",
              "  </thead>\n",
              "  <tbody>\n",
              "    <tr>\n",
              "      <th>853</th>\n",
              "      <td>/events/UFC-81-Breaking-Point-6038</td>\n",
              "      <td>6038</td>\n",
              "      <td>8</td>\n",
              "      <td>UFC 81 - Breaking Point</td>\n",
              "      <td>Ultimate Fighting Championship</td>\n",
              "      <td>2/2/08</td>\n",
              "      <td>MGM Grand Garden Arena, Las Vegas, Nevada, Uni...</td>\n",
              "      <td>/fighter/Frank-Mir-2329</td>\n",
              "      <td>/fighter/Brock-Lesnar-17522</td>\n",
              "      <td>Frank Mir</td>\n",
              "      <td>Brock Lesnar</td>\n",
              "      <td>win</td>\n",
              "      <td>loss</td>\n",
              "      <td>2329</td>\n",
              "      <td>17522</td>\n",
              "      <td>Submission</td>\n",
              "      <td>Kneebar</td>\n",
              "      <td>Steve Mazzagatti</td>\n",
              "      <td>1</td>\n",
              "      <td>1:30</td>\n",
              "    </tr>\n",
              "    <tr>\n",
              "      <th>947</th>\n",
              "      <td>/events/UFC-87-Seek-and-Destroy-6779</td>\n",
              "      <td>6779</td>\n",
              "      <td>9</td>\n",
              "      <td>UFC 87 - Seek and Destroy</td>\n",
              "      <td>Ultimate Fighting Championship</td>\n",
              "      <td>8/9/08</td>\n",
              "      <td>Target Center, Minneapolis, Minnesota, United ...</td>\n",
              "      <td>/fighter/Brock-Lesnar-17522</td>\n",
              "      <td>/fighter/Heath-Herring-13</td>\n",
              "      <td>Brock Lesnar</td>\n",
              "      <td>Heath Herring</td>\n",
              "      <td>win</td>\n",
              "      <td>loss</td>\n",
              "      <td>17522</td>\n",
              "      <td>13</td>\n",
              "      <td>Decision</td>\n",
              "      <td>Unanimous</td>\n",
              "      <td>Dan Miragliotta</td>\n",
              "      <td>3</td>\n",
              "      <td>5:00</td>\n",
              "    </tr>\n",
              "    <tr>\n",
              "      <th>996</th>\n",
              "      <td>/events/UFC-91-Couture-vs-Lesnar-8406</td>\n",
              "      <td>8406</td>\n",
              "      <td>9</td>\n",
              "      <td>UFC 91 - Couture vs. Lesnar</td>\n",
              "      <td>Ultimate Fighting Championship</td>\n",
              "      <td>11/15/08</td>\n",
              "      <td>MGM Grand Garden Arena, Las Vegas, Nevada, Uni...</td>\n",
              "      <td>/fighter/Brock-Lesnar-17522</td>\n",
              "      <td>/fighter/Randy-Couture-166</td>\n",
              "      <td>Brock Lesnar</td>\n",
              "      <td>Randy Couture</td>\n",
              "      <td>win</td>\n",
              "      <td>loss</td>\n",
              "      <td>17522</td>\n",
              "      <td>166</td>\n",
              "      <td>TKO</td>\n",
              "      <td>Punches</td>\n",
              "      <td>Mario Yamasaki</td>\n",
              "      <td>2</td>\n",
              "      <td>3:07</td>\n",
              "    </tr>\n",
              "    <tr>\n",
              "      <th>1142</th>\n",
              "      <td>/events/UFC-100-Lesnar-vs-Mir-2-9568</td>\n",
              "      <td>9568</td>\n",
              "      <td>10</td>\n",
              "      <td>UFC 100 - Lesnar vs. Mir 2</td>\n",
              "      <td>Ultimate Fighting Championship</td>\n",
              "      <td>7/11/09</td>\n",
              "      <td>Mandalay Bay Events Center, Las Vegas, Nevada,...</td>\n",
              "      <td>/fighter/Brock-Lesnar-17522</td>\n",
              "      <td>/fighter/Frank-Mir-2329</td>\n",
              "      <td>Brock Lesnar</td>\n",
              "      <td>Frank Mir</td>\n",
              "      <td>win</td>\n",
              "      <td>loss</td>\n",
              "      <td>17522</td>\n",
              "      <td>2329</td>\n",
              "      <td>TKO</td>\n",
              "      <td>Punches</td>\n",
              "      <td>Herb Dean</td>\n",
              "      <td>2</td>\n",
              "      <td>1:48</td>\n",
              "    </tr>\n",
              "    <tr>\n",
              "      <th>1376</th>\n",
              "      <td>/events/UFC-116-Lesnar-vs-Carwin-12765</td>\n",
              "      <td>12765</td>\n",
              "      <td>11</td>\n",
              "      <td>UFC 116 - Lesnar vs. Carwin</td>\n",
              "      <td>Ultimate Fighting Championship</td>\n",
              "      <td>7/3/10</td>\n",
              "      <td>MGM Grand Garden Arena, Las Vegas, Nevada, Uni...</td>\n",
              "      <td>/fighter/Brock-Lesnar-17522</td>\n",
              "      <td>/fighter/Shane-Carwin-14013</td>\n",
              "      <td>Brock Lesnar</td>\n",
              "      <td>Shane Carwin</td>\n",
              "      <td>win</td>\n",
              "      <td>loss</td>\n",
              "      <td>17522</td>\n",
              "      <td>14013</td>\n",
              "      <td>Submission</td>\n",
              "      <td>Arm-Triangle Choke</td>\n",
              "      <td>Josh Rosenthal</td>\n",
              "      <td>2</td>\n",
              "      <td>2:19</td>\n",
              "    </tr>\n",
              "  </tbody>\n",
              "</table>\n",
              "</div>"
            ],
            "text/plain": [
              "                                     pageurl    eid  mid  \\\n",
              "853       /events/UFC-81-Breaking-Point-6038   6038    8   \n",
              "947     /events/UFC-87-Seek-and-Destroy-6779   6779    9   \n",
              "996    /events/UFC-91-Couture-vs-Lesnar-8406   8406    9   \n",
              "1142    /events/UFC-100-Lesnar-vs-Mir-2-9568   9568   10   \n",
              "1376  /events/UFC-116-Lesnar-vs-Carwin-12765  12765   11   \n",
              "\n",
              "                       event_name                       event_org event_date  \\\n",
              "853       UFC 81 - Breaking Point  Ultimate Fighting Championship     2/2/08   \n",
              "947     UFC 87 - Seek and Destroy  Ultimate Fighting Championship     8/9/08   \n",
              "996   UFC 91 - Couture vs. Lesnar  Ultimate Fighting Championship   11/15/08   \n",
              "1142   UFC 100 - Lesnar vs. Mir 2  Ultimate Fighting Championship    7/11/09   \n",
              "1376  UFC 116 - Lesnar vs. Carwin  Ultimate Fighting Championship     7/3/10   \n",
              "\n",
              "                                            event_place  \\\n",
              "853   MGM Grand Garden Arena, Las Vegas, Nevada, Uni...   \n",
              "947   Target Center, Minneapolis, Minnesota, United ...   \n",
              "996   MGM Grand Garden Arena, Las Vegas, Nevada, Uni...   \n",
              "1142  Mandalay Bay Events Center, Las Vegas, Nevada,...   \n",
              "1376  MGM Grand Garden Arena, Las Vegas, Nevada, Uni...   \n",
              "\n",
              "                        f1pageurl                    f2pageurl        f1name  \\\n",
              "853       /fighter/Frank-Mir-2329  /fighter/Brock-Lesnar-17522     Frank Mir   \n",
              "947   /fighter/Brock-Lesnar-17522    /fighter/Heath-Herring-13  Brock Lesnar   \n",
              "996   /fighter/Brock-Lesnar-17522   /fighter/Randy-Couture-166  Brock Lesnar   \n",
              "1142  /fighter/Brock-Lesnar-17522      /fighter/Frank-Mir-2329  Brock Lesnar   \n",
              "1376  /fighter/Brock-Lesnar-17522  /fighter/Shane-Carwin-14013  Brock Lesnar   \n",
              "\n",
              "             f2name f1result f2result  f1fid  f2fid      method  \\\n",
              "853    Brock Lesnar      win     loss   2329  17522  Submission   \n",
              "947   Heath Herring      win     loss  17522     13    Decision   \n",
              "996   Randy Couture      win     loss  17522    166         TKO   \n",
              "1142      Frank Mir      win     loss  17522   2329         TKO   \n",
              "1376   Shane Carwin      win     loss  17522  14013  Submission   \n",
              "\n",
              "                method_d               ref  round  time  \n",
              "853              Kneebar  Steve Mazzagatti      1  1:30  \n",
              "947            Unanimous   Dan Miragliotta      3  5:00  \n",
              "996              Punches    Mario Yamasaki      2  3:07  \n",
              "1142             Punches         Herb Dean      2  1:48  \n",
              "1376  Arm-Triangle Choke    Josh Rosenthal      2  2:19  "
            ]
          },
          "metadata": {
            "tags": []
          },
          "execution_count": 144
        }
      ]
    },
    {
      "metadata": {
        "id": "9KV0mTBOEj0F",
        "colab_type": "code",
        "colab": {}
      },
      "cell_type": "code",
      "source": [
        "#Find all matches\n",
        "\n",
        "brocklesnar_win=mma_brocklesnar_df[( (mma_brocklesnar_df[\"f1name\"]==\"Brock Lesnar\") & (mma_brocklesnar_df[\"f1result\"]==\"win\") )|( (mma_brocklesnar_df[\"f2name\"]==\"Brock Lesnar\") & (mma_brocklesnar_df[\"f2result\"]==\"win\"))]"
      ],
      "execution_count": 0,
      "outputs": []
    },
    {
      "metadata": {
        "id": "XQzS95g3IH-z",
        "colab_type": "code",
        "outputId": "07c6e99d-0c33-42d0-c4cc-4535ba2e5b5a",
        "colab": {
          "base_uri": "https://localhost:8080/",
          "height": 34
        }
      },
      "cell_type": "code",
      "source": [
        "#Let's find brock lesnar's finishers \n",
        "finisher=brocklesnar_win[\"method_d\"].unique()  \n",
        "print(finisher)"
      ],
      "execution_count": 0,
      "outputs": [
        {
          "output_type": "stream",
          "text": [
            "['Unanimous' 'Punches' 'Arm-Triangle Choke']\n"
          ],
          "name": "stdout"
        }
      ]
    },
    {
      "metadata": {
        "id": "lydH1uzXLl-U",
        "colab_type": "code",
        "outputId": "42ac4b90-05d2-47e3-f751-a884c072491e",
        "colab": {
          "base_uri": "https://localhost:8080/",
          "height": 1109
        }
      },
      "cell_type": "code",
      "source": [
        "#Different ways fighters have won fights in the past\n",
        "unique_attacks= mma_df[\"method_d\"].unique(); unique_attacks"
      ],
      "execution_count": 0,
      "outputs": [
        {
          "output_type": "execute_result",
          "data": {
            "text/plain": [
              "array(['Rear-Naked Choke', 'Corner Stoppage', 'Heel Hook',\n",
              "       'Smother Choke', 'Punches', 'Head Kick', 'Lapel Choke',\n",
              "       'Guillotine Choke', 'Armlock', 'Elbows', 'Knees', 'Punch',\n",
              "       'Triangle Choke', 'Rear Naked Choke', 'Choke', nan, 'Armbar',\n",
              "       'Keylock', 'Cut', 'Front Choke', 'Elbow', 'Strikes', 'Position',\n",
              "       'Kneebar', 'Doctor Stoppage', 'Unanimous', 'Split',\n",
              "       'Doctor Stoppage - Broken Nose', 'Exhaustion', 'Neck Crank',\n",
              "       'Forearm Choke', 'Fatigue', 'Headbutts', 'Achilles Lock',\n",
              "       'Crucifix Choke', 'Chin to the Eye', 'Knee', 'Slam',\n",
              "       'Shoulder Choke', 'Submission (Armbar',\n",
              "       'Submission (Arm-Triangle Choke', 'Arm-Triangle Choke', 'Majority',\n",
              "       'Kicking with Shoes', 'Punches and Elbows', 'Triangle Armbar',\n",
              "       'Dislocated Shoulder', 'Bulldog Choke', 'Spinning Back Fist',\n",
              "       'Kick to the Body and Punches', 'Repeated Fouls',\n",
              "       'Knee and Punches', 'Inside Shoulder Lock', 'Injury', 'Kimura',\n",
              "       'Toe Hold', 'Knees and Punches', 'Arm Triangle Choke',\n",
              "       'Kicking a Downed Opponent', 'Punches and Knees',\n",
              "       'Flying Head Kick and Punches', 'Body Lock', 'Spinning Back Kick',\n",
              "       'Submission (Rear-Naked Choke', 'Retirement', 'Anaconda Choke',\n",
              "       'Flying Knee', 'Cuts', 'Contest (Sakara Kicked in Groin',\n",
              "       'Leg Kicks', 'Superman Punch', 'Submission (Shoulder Choke',\n",
              "       'Head Kick and Knee', 'Submission (North-South Choke',\n",
              "       'Upkick and Punches', 'Punch to the Body', 'Neck Injury',\n",
              "       'Head Kick and Punches', 'Kick to the Body and Elbows',\n",
              "       'Brabo Choke', 'Suplex and Punches', 'Knee Injury',\n",
              "       'Shoulder Injury', \"Contest (Both Fighters TKO'd\",\n",
              "       'Triangle Kimura', 'Knee and Puches', 'Punch and Knee',\n",
              "       'Illegal Knee to the Head', 'Slam and Punches',\n",
              "       'Knees to the Body', 'Arm Injury', 'Submission (Triangle Choke',\n",
              "       'Leg Injury', 'Submission (Anaconda Choke',\n",
              "       'Flying Knee and Punches', 'Eye Injury', 'Peruvian Necktie',\n",
              "       'Kick to the Body', 'Reverse Armbar', 'Rib Injury',\n",
              "       'Elbows and Punches', 'Spinning Back Kick and Punches',\n",
              "       'Decision (Overturned by NSAC', 'Submission (Guillotine Choke',\n",
              "       'Illegal Downward Elbows', 'Submission (Brabo Choke',\n",
              "       'Elbows to the Body', 'Ankle Injury', 'Illegal Upkick',\n",
              "       'Knee to the Body', 'Straight Armbar', 'Jaw Injury',\n",
              "       'Pillory Choke', 'Overturned by NSAC', 'Body Triangle',\n",
              "       'Front Kick and Punches', 'Knee to the Body and Punches',\n",
              "       'Twister', 'Front Kick', 'Elbow and Punches',\n",
              "       'Flying Triangle Choke', 'Lentz Struck by Illegal Knee',\n",
              "       'Inverted Heel Hook', 'Accidental Head-butt',\n",
              "       'Knees to the Body and Punches', 'Submission (Kimura',\n",
              "       'Punches and Elbows to the Body', 'Punches to Back of Head',\n",
              "       'Spinning Wheel Kick', 'Calf Slicer', 'Punch and Elbows',\n",
              "       'Overturned by Commission', 'Accidental Eye Poke',\n",
              "       'North-South Choke', 'Head Kick and Punch',\n",
              "       'Contest (Overturned by Promoter', 'Overturned by Promoter',\n",
              "       'Accidental Foul', 'Knees and Elbow', 'Decision (Unanimous',\n",
              "       'Thumb Injury', 'Decision (Majority',\n",
              "       'Spinning Heel Kick and Punches', 'Spinning Hook Kick',\n",
              "       'Reverse Triangle Armbar', 'Knee to Head of Grounded Fighter',\n",
              "       'Spinning Back-Kick and Punches', 'Slam and Punch',\n",
              "       'Decision (Overturned by TDLR', 'Elbows to Back of Head',\n",
              "       'Wheel Kick and Punches', 'Spinning Back Elbow', 'Leg Kick',\n",
              "       'Punches and Knee', 'Accidental Clash of Heads',\n",
              "       'Inverted Triangle Kimura', 'Submission to Heel Strikes',\n",
              "       'Overturned by Nevada Athletic Commission',\n",
              "       'Contest (Overturned by Commission', 'Overturned by CSAC',\n",
              "       'Omoplata', 'Reverse Bulldog Choke', 'Punches to the Body',\n",
              "       'Overturned by NSBA', 'Side Kick and Punches',\n",
              "       'Submission (Bulldog Choke', 'Finger Injury', 'Overturned by NAC',\n",
              "       'Elbow and Punch', 'Overturned by CABMMA', 'Hook Kick and Punches',\n",
              "       'Esophagus Injury', 'Hand Injury', 'Body Kick and Punches',\n",
              "       'Japanese Necktie', 'Elbows and Knees'], dtype=object)"
            ]
          },
          "metadata": {
            "tags": []
          },
          "execution_count": 125
        }
      ]
    },
    {
      "metadata": {
        "id": "-_axhsFZNtU0",
        "colab_type": "code",
        "outputId": "66393e07-0e8f-44e5-e4ff-8e6f0b982987",
        "colab": {
          "base_uri": "https://localhost:8080/",
          "height": 84
        }
      },
      "cell_type": "code",
      "source": [
        "#Brock lesnar has won most matches by TKO \n",
        "mma_brocklesnar_df[\"method\"].value_counts()"
      ],
      "execution_count": 0,
      "outputs": [
        {
          "output_type": "execute_result",
          "data": {
            "text/plain": [
              "TKO           4\n",
              "Submission    2\n",
              "Decision      1\n",
              "Name: method, dtype: int64"
            ]
          },
          "metadata": {
            "tags": []
          },
          "execution_count": 69
        }
      ]
    },
    {
      "metadata": {
        "id": "kD1GFqZpbXnC",
        "colab_type": "code",
        "outputId": "2ca8ac8a-17ba-4f10-e3fd-8a1aa9704da6",
        "colab": {
          "base_uri": "https://localhost:8080/",
          "height": 202
        }
      },
      "cell_type": "code",
      "source": [
        "#Fighters with the highest wins\n",
        "mma_df[\"f1name\"].value_counts()[:10]"
      ],
      "execution_count": 0,
      "outputs": [
        {
          "output_type": "execute_result",
          "data": {
            "text/plain": [
              "Georges St. Pierre    19\n",
              "Matt Hughes           18\n",
              "Gleison Tibau         17\n",
              "Anderson Silva        17\n",
              "Michael Bisping       17\n",
              "Chuck Liddell         16\n",
              "Demian Maia           16\n",
              "Donald Cerrone        16\n",
              "Frank Mir             16\n",
              "Randy Couture         15\n",
              "Name: f1name, dtype: int64"
            ]
          },
          "metadata": {
            "tags": []
          },
          "execution_count": 115
        }
      ]
    },
    {
      "metadata": {
        "id": "1uvaJ5T7c53E",
        "colab_type": "code",
        "outputId": "29f4844a-19f2-4926-c073-d8b3ea1f3575",
        "colab": {
          "base_uri": "https://localhost:8080/",
          "height": 202
        }
      },
      "cell_type": "code",
      "source": [
        "#Fighters with the highest losses\n",
        "mma_df[\"f2name\"].value_counts()[:10]"
      ],
      "execution_count": 0,
      "outputs": [
        {
          "output_type": "execute_result",
          "data": {
            "text/plain": [
              "Tito Ortiz         12\n",
              "Yves Edwards       11\n",
              "Jeremy Stephens    11\n",
              "Sam Stout          11\n",
              "B.J. Penn          10\n",
              "Chris Lytle        10\n",
              "Frank Mir          10\n",
              "Clay Guida         10\n",
              "Chris Leben        10\n",
              "Josh Koscheck      10\n",
              "Name: f2name, dtype: int64"
            ]
          },
          "metadata": {
            "tags": []
          },
          "execution_count": 114
        }
      ]
    },
    {
      "metadata": {
        "id": "7L4maJyodCw5",
        "colab_type": "code",
        "outputId": "a679d762-eb30-40e1-d626-69b8897dcf16",
        "colab": {
          "base_uri": "https://localhost:8080/",
          "height": 34
        }
      },
      "cell_type": "code",
      "source": [
        "#Fights on average last for 2.21 rounds to complete\n",
        "mma_df[\"round\"].mean()"
      ],
      "execution_count": 0,
      "outputs": [
        {
          "output_type": "execute_result",
          "data": {
            "text/plain": [
              "2.211824040347436"
            ]
          },
          "metadata": {
            "tags": []
          },
          "execution_count": 113
        }
      ]
    },
    {
      "metadata": {
        "id": "FTAqEG7DOjS_",
        "colab_type": "code",
        "outputId": "be7d979b-2bd1-40dc-d6a4-d81694cff8f2",
        "colab": {
          "base_uri": "https://localhost:8080/",
          "height": 202
        }
      },
      "cell_type": "code",
      "source": [
        "#Most fights were won by the unanimous decision\n",
        "mma_df[\"method_d\"].value_counts()[:10,]"
      ],
      "execution_count": 0,
      "outputs": [
        {
          "output_type": "execute_result",
          "data": {
            "text/plain": [
              "Unanimous             1142\n",
              "Punches                699\n",
              "Split                  308\n",
              "Rear-Naked Choke       252\n",
              "Guillotine Choke       134\n",
              "Punch                  126\n",
              "Armbar                  85\n",
              "Triangle Choke          49\n",
              "Doctor Stoppage         41\n",
              "Arm-Triangle Choke      34\n",
              "Name: method_d, dtype: int64"
            ]
          },
          "metadata": {
            "tags": []
          },
          "execution_count": 168
        }
      ]
    },
    {
      "metadata": {
        "id": "ALdW7QtsHdIi",
        "colab_type": "code",
        "outputId": "e7ca1d62-bb98-495e-cf1b-1ca755144438",
        "colab": {
          "base_uri": "https://localhost:8080/",
          "height": 202
        }
      },
      "cell_type": "code",
      "source": [
        "mma_df[\"method\"].value_counts()[:10,]"
      ],
      "execution_count": 0,
      "outputs": [
        {
          "output_type": "execute_result",
          "data": {
            "text/plain": [
              "Decision      1470\n",
              "TKO            779\n",
              "Submission     768\n",
              "KO             414\n",
              "Technical       68\n",
              "NC              26\n",
              "Draw            21\n",
              "DQ              11\n",
              "No               6\n",
              "No Contest       2\n",
              "Name: method, dtype: int64"
            ]
          },
          "metadata": {
            "tags": []
          },
          "execution_count": 169
        }
      ]
    },
    {
      "metadata": {
        "id": "6-RJpiRsdnTQ",
        "colab_type": "code",
        "outputId": "d9b5849e-5713-486f-f826-0d27b38340f3",
        "colab": {
          "base_uri": "https://localhost:8080/",
          "height": 428
        }
      },
      "cell_type": "code",
      "source": [
        "sns.distplot(mma_df[\"round\"])"
      ],
      "execution_count": 0,
      "outputs": [
        {
          "output_type": "stream",
          "text": [
            "/usr/local/lib/python3.6/dist-packages/matplotlib/axes/_axes.py:6521: MatplotlibDeprecationWarning: \n",
            "The 'normed' kwarg was deprecated in Matplotlib 2.1 and will be removed in 3.1. Use 'density' instead.\n",
            "  alternative=\"'density'\", removal=\"3.1\")\n"
          ],
          "name": "stderr"
        },
        {
          "output_type": "execute_result",
          "data": {
            "text/plain": [
              "<matplotlib.axes._subplots.AxesSubplot at 0x7f554b5dada0>"
            ]
          },
          "metadata": {
            "tags": []
          },
          "execution_count": 126
        },
        {
          "output_type": "display_data",
          "data": {
            "image/png": "[encoded data removed]",
            "text/plain": [
              "<Figure size 576x396 with 1 Axes>"
            ]
          },
          "metadata": {
            "tags": []
          }
        }
      ]
    }
  ]
}
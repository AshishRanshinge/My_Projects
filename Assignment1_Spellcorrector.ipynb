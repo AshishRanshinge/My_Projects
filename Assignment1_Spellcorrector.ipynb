{
  "nbformat": 4,
  "nbformat_minor": 0,
  "metadata": {
    "colab": {
      "name": "Assignment1-Spellcorrector.ipynb",
      "version": "0.3.2",
      "provenance": [],
      "collapsed_sections": [],
      "include_colab_link": true
    },
    "kernelspec": {
      "name": "python3",
      "display_name": "Python 3"
    }
  },
  "cells": [
    {
      "cell_type": "markdown",
      "metadata": {
        "id": "view-in-github",
        "colab_type": "text"
      },
      "source": [
        "<a href=\"https://colab.research.google.com/github/AshishRanshinge/My_Projects/blob/master/Assignment1_Spellcorrector.ipynb\" target=\"_parent\"><img src=\"https://colab.research.google.com/assets/colab-badge.svg\" alt=\"Open In Colab\"/></a>"
      ]
    },
    {
      "metadata": {
        "id": "SrApp-RcH13Z",
        "colab_type": "text"
      },
      "cell_type": "markdown",
      "source": [
        "## Assignment #1"
      ]
    },
    {
      "metadata": {
        "id": "qI2nzyyxIDSm",
        "colab_type": "text"
      },
      "cell_type": "markdown",
      "source": [
        "Create any function\n",
        "\n",
        "*   Use Pandas\n",
        "*   Use TextBlob\n",
        "\n"
      ]
    },
    {
      "metadata": {
        "id": "uFXnlSzOKxC_",
        "colab_type": "text"
      },
      "cell_type": "markdown",
      "source": [
        "### Installing textblob"
      ]
    },
    {
      "metadata": {
        "id": "gHhz7655K1f5",
        "colab_type": "code",
        "colab": {}
      },
      "cell_type": "code",
      "source": [
        "!pip -q install -U textblob"
      ],
      "execution_count": 0,
      "outputs": []
    },
    {
      "metadata": {
        "id": "_m6ZSeE0JNZu",
        "colab_type": "text"
      },
      "cell_type": "markdown",
      "source": [
        "### Making a Pandas DataFrame from scratch"
      ]
    },
    {
      "metadata": {
        "id": "cKDMQwU0Hvey",
        "colab_type": "code",
        "colab": {}
      },
      "cell_type": "code",
      "source": [
        "import pandas as pd\n",
        "from textblob import TextBlob\n"
      ],
      "execution_count": 0,
      "outputs": []
    },
    {
      "metadata": {
        "id": "P2jRChieJYzl",
        "colab_type": "code",
        "colab": {}
      },
      "cell_type": "code",
      "source": [
        "\"This dataframe contains the song lyrics with misspelt words\"\n",
        "df = pd.DataFrame(\n",
        "  {\"SongLyrics\": [\"Firrst things firsst\",\n",
        "                \"I'ma say all the worrds inside my headd\",\n",
        "                \"I'm fired up and tirred of the way that things have been, oh ooh\"]}\n",
        ")"
      ],
      "execution_count": 0,
      "outputs": []
    },
    {
      "metadata": {
        "id": "ErJerROzJ0Mc",
        "colab_type": "text"
      },
      "cell_type": "markdown",
      "source": [
        "### Creating an Apply function"
      ]
    },
    {
      "metadata": {
        "id": "iBBUxcZ_KFIp",
        "colab_type": "code",
        "colab": {}
      },
      "cell_type": "code",
      "source": [
        "def spellcorrect(row):\n",
        "  \"This operates on a row of a Pandas DataFrame and performs corrects the misspelt words\"\n",
        "  \n",
        "  result = TextBlob(row)\n",
        "  correct_version = result.correct()\n",
        "  print(f\"Raw phrase: {row}\\nCorrect Spelling: {correct_version}\\n\\n\")\n",
        "  return correct_version \n",
        "  "
      ],
      "execution_count": 0,
      "outputs": []
    },
    {
      "metadata": {
        "id": "9jK6JOE2Mn0V",
        "colab_type": "text"
      },
      "cell_type": "markdown",
      "source": [
        "### Apply to DataFrame"
      ]
    },
    {
      "metadata": {
        "id": "zqg5djAiMuCv",
        "colab_type": "code",
        "outputId": "12f075db-75ae-4e7e-a6d2-1872d3d17cff",
        "colab": {
          "base_uri": "https://localhost:8080/",
          "height": 218
        }
      },
      "cell_type": "code",
      "source": [
        "\"Print the raw phrase and the corrected version\"\n",
        "df[\"Believer\"]=df[\"SongLyrics\"].apply(spellcorrect)"
      ],
      "execution_count": 6,
      "outputs": [
        {
          "output_type": "stream",
          "text": [
            "Raw phrase: Firrst things firsst\n",
            "Correct Spelling: First things first\n",
            "\n",
            "\n",
            "Raw phrase: I'ma say all the worrds inside my headd\n",
            "Correct Spelling: I'ma say all the words inside my head\n",
            "\n",
            "\n",
            "Raw phrase: I'm fired up and tirred of the way that things have been, oh ooh\n",
            "Correct Spelling: I'm fired up and tired of the way that things have been, oh ooh\n",
            "\n",
            "\n"
          ],
          "name": "stdout"
        }
      ]
    }
  ]
}